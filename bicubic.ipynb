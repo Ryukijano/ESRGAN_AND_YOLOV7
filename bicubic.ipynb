{
 "cells": [
  {
   "cell_type": "code",
   "execution_count": null,
   "metadata": {},
   "outputs": [
    {
     "ename": "",
     "evalue": "",
     "output_type": "error",
     "traceback": [
      "\u001b[1;31mRunning cells with 'yolov7' requires ipykernel package.\n",
      "\u001b[1;31mRun the following command to install 'ipykernel' into the Python environment. \n",
      "\u001b[1;31mCommand: 'conda install -n yolov7 ipykernel --update-deps --force-reinstall'"
     ]
    }
   ],
   "source": [
    "import os\n",
    "from PIL import Image\n",
    "import cv2"
   ]
  },
  {
   "cell_type": "code",
   "execution_count": 6,
   "metadata": {},
   "outputs": [],
   "source": [
    "# Set the input and output directories\n",
    "input_dir = \"G:\\\\WORK\\\\YOLOV7\\\\yolov7\\\\downscaled_360p\"\n",
    "output_dir = \"G:\\\\WORK\\\\YOLOV7\\\\yolov7\\\\bicubic_images\""
   ]
  },
  {
   "cell_type": "code",
   "execution_count": 7,
   "metadata": {},
   "outputs": [],
   "source": [
    "# Set the bicubic resize factor\n",
    "resize_factor = 2"
   ]
  },
  {
   "cell_type": "code",
   "execution_count": 8,
   "metadata": {},
   "outputs": [
    {
     "name": "stderr",
     "output_type": "stream",
     "text": [
      "C:\\Users\\Gyana\\AppData\\Local\\Temp\\ipykernel_21060\\148142644.py:7: DeprecationWarning: BICUBIC is deprecated and will be removed in Pillow 10 (2023-07-01). Use Resampling.BICUBIC instead.\n",
      "  image = image.resize((image.width * resize_factor, image.height * resize_factor), resample=Image.BICUBIC)\n"
     ]
    }
   ],
   "source": [
    "# Iterate over the files in the input directory\n",
    "for file in os.listdir(input_dir):\n",
    "  # Load the image\n",
    "  image = Image.open(os.path.join(input_dir, file))\n",
    "\n",
    "  # Resize the image using bicubic interpolation\n",
    "  image = image.resize((image.width * resize_factor, image.height * resize_factor), resample=Image.BICUBIC)\n",
    "\n",
    "  # Save the resized image to the output directory\n",
    "  image.save(os.path.join(output_dir, file))"
   ]
  },
  {
   "cell_type": "code",
   "execution_count": null,
   "metadata": {},
   "outputs": [],
   "source": []
  }
 ],
 "metadata": {
  "kernelspec": {
   "display_name": "yolov7",
   "language": "python",
   "name": "python3"
  },
  "language_info": {
   "codemirror_mode": {
    "name": "ipython",
    "version": 3
   },
   "file_extension": ".py",
   "mimetype": "text/x-python",
   "name": "python",
   "nbconvert_exporter": "python",
   "pygments_lexer": "ipython3",
   "version": "3.10.8 | packaged by conda-forge | (main, Nov 24 2022, 14:07:00) [MSC v.1916 64 bit (AMD64)]"
  },
  "orig_nbformat": 4,
  "vscode": {
   "interpreter": {
    "hash": "483919e63c96ef48b341de99f586646e805ab968f28d0fca496962f8d18ac27f"
   }
  }
 },
 "nbformat": 4,
 "nbformat_minor": 2
}
